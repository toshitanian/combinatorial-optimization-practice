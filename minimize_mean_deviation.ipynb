{
 "cells": [
  {
   "cell_type": "code",
   "execution_count": 1,
   "metadata": {},
   "outputs": [],
   "source": [
    "# https://qiita.com/matsulib/items/898873b73d584c7dcb8b\n",
    "import numpy as np, pandas as pd\n"
   ]
  },
  {
   "cell_type": "code",
   "execution_count": 2,
   "metadata": {},
   "outputs": [
    {
     "name": "stdout",
     "output_type": "stream",
     "text": [
      "makes 3 teams with 6 members\n"
     ]
    }
   ],
   "source": [
    "skills = [\"Controller\", \"Promoter\", \"Supporter\", \"Analyzer\"]\n",
    "members = [\"P\", \"Q\", \"R\", \"S\", \"T\", \"U\"]\n",
    "teams = [\"A\", \"B\", \"C\"]\n",
    "scores = pd.DataFrame([\n",
    "    [6,0,1,3],\n",
    "    [2,-1,3,5],\n",
    "    [2,4,0,0],\n",
    "    [3,4,5,0],\n",
    "    [0,2,1,4],\n",
    "    [2,3,-1,1]\n",
    "], columns=skills, index=members)\n",
    "\n",
    "num_teams = len(teams)\n",
    "num_members = scores.shape[0]\n",
    "print(f\"makes {num_teams} teams with {num_members} members\")"
   ]
  },
  {
   "cell_type": "code",
   "execution_count": 3,
   "metadata": {},
   "outputs": [
    {
     "data": {
      "text/html": [
       "<div>\n",
       "<style scoped>\n",
       "    .dataframe tbody tr th:only-of-type {\n",
       "        vertical-align: middle;\n",
       "    }\n",
       "\n",
       "    .dataframe tbody tr th {\n",
       "        vertical-align: top;\n",
       "    }\n",
       "\n",
       "    .dataframe thead th {\n",
       "        text-align: right;\n",
       "    }\n",
       "</style>\n",
       "<table border=\"1\" class=\"dataframe\">\n",
       "  <thead>\n",
       "    <tr style=\"text-align: right;\">\n",
       "      <th></th>\n",
       "      <th>Controller</th>\n",
       "      <th>Promoter</th>\n",
       "      <th>Supporter</th>\n",
       "      <th>Analyzer</th>\n",
       "    </tr>\n",
       "  </thead>\n",
       "  <tbody>\n",
       "    <tr>\n",
       "      <th>P</th>\n",
       "      <td>6</td>\n",
       "      <td>0</td>\n",
       "      <td>1</td>\n",
       "      <td>3</td>\n",
       "    </tr>\n",
       "    <tr>\n",
       "      <th>Q</th>\n",
       "      <td>2</td>\n",
       "      <td>-1</td>\n",
       "      <td>3</td>\n",
       "      <td>5</td>\n",
       "    </tr>\n",
       "    <tr>\n",
       "      <th>R</th>\n",
       "      <td>2</td>\n",
       "      <td>4</td>\n",
       "      <td>0</td>\n",
       "      <td>0</td>\n",
       "    </tr>\n",
       "    <tr>\n",
       "      <th>S</th>\n",
       "      <td>3</td>\n",
       "      <td>4</td>\n",
       "      <td>5</td>\n",
       "      <td>0</td>\n",
       "    </tr>\n",
       "    <tr>\n",
       "      <th>T</th>\n",
       "      <td>0</td>\n",
       "      <td>2</td>\n",
       "      <td>1</td>\n",
       "      <td>4</td>\n",
       "    </tr>\n",
       "    <tr>\n",
       "      <th>U</th>\n",
       "      <td>2</td>\n",
       "      <td>3</td>\n",
       "      <td>-1</td>\n",
       "      <td>1</td>\n",
       "    </tr>\n",
       "  </tbody>\n",
       "</table>\n",
       "</div>"
      ],
      "text/plain": [
       "   Controller  Promoter  Supporter  Analyzer\n",
       "P           6         0          1         3\n",
       "Q           2        -1          3         5\n",
       "R           2         4          0         0\n",
       "S           3         4          5         0\n",
       "T           0         2          1         4\n",
       "U           2         3         -1         1"
      ]
     },
     "execution_count": 3,
     "metadata": {},
     "output_type": "execute_result"
    }
   ],
   "source": [
    "scores"
   ]
  },
  {
   "cell_type": "code",
   "execution_count": 4,
   "metadata": {},
   "outputs": [],
   "source": [
    "from pulp import LpProblem, lpSum, value, lpDot\n",
    "from ortoolpy import addvars, addbinvars, addvar"
   ]
  },
  {
   "cell_type": "code",
   "execution_count": 5,
   "metadata": {},
   "outputs": [],
   "source": [
    "\n",
    "m = LpProblem()  # 数理モデル\n",
    "x = pd.DataFrame(addbinvars(len(members), len(teams)), index=members, columns=teams)  # 割当\n",
    "y = pd.DataFrame(addvars(len(teams), len(skills)), index=teams, columns=skills)  # チーム内の平均偏差\n",
    "mu = pd.DataFrame(addvars(len(teams)), index=teams)   # チーム内の平均\n",
    "z = pd.DataFrame(addvars(len(teams)), index=teams)  # チームごとの平均偏差\n",
    "nu = addvar()  # 全チームの平均"
   ]
  },
  {
   "cell_type": "code",
   "execution_count": 7,
   "metadata": {},
   "outputs": [],
   "source": [
    "\n",
    "m.setObjective(lpSum([lpSum(y.loc[j]) + 1.5*z.loc[j] for j in teams]))  # 目的関数\n",
    "\n",
    "m.addConstraint(lpSum(np.dot(scores.sum(1), x)) / len(teams) == nu)\n",
    "for j in teams:\n",
    "    m.addConstraint(lpDot(scores.sum(1), x[j]) - nu <= z.loc[j])\n",
    "    m.addConstraint(lpDot(scores.sum(1), x[j]) - nu >= -z.loc[j])\n",
    "    m.addConstraint(lpSum(np.dot(x[j], scores)) / len(skills) == mu.loc[j])\n",
    "    for k in skills:\n",
    "        m.addConstraint(lpDot(scores[k], x[j]) - mu.loc[j] <= y.loc[j,k])\n",
    "        m.addConstraint(lpDot(scores[k], x[j]) - mu.loc[j] >= -y.loc[j,k])\n",
    "for i in members:\n",
    "    m.addConstraint(lpSum(x.loc[i]) == 1)  # どこかのチームに所属\n",
    "\n"
   ]
  },
  {
   "cell_type": "code",
   "execution_count": 8,
   "metadata": {},
   "outputs": [
    {
     "name": "stdout",
     "output_type": "stream",
     "text": [
      "Welcome to the CBC MILP Solver \n",
      "Version: 2.10.3 \n",
      "Build Date: Dec 15 2019 \n",
      "\n",
      "command line - /Users/toshiya/Library/Caches/pypoetry/virtualenvs/combinatorial-optimization-practice-O_WzHL3X-py3.10/lib/python3.10/site-packages/pulp/solverdir/cbc/osx/64/cbc /var/folders/_x/8s9ykbp91d39v67y3yj2j_fc0000gn/T/6e5d6591fd3648b6a92af3beabe409a2-pulp.mps timeMode elapsed branch printingOptions all solution /var/folders/_x/8s9ykbp91d39v67y3yj2j_fc0000gn/T/6e5d6591fd3648b6a92af3beabe409a2-pulp.sol (default strategy 1)\n",
      "At line 2 NAME          MODEL\n",
      "At line 3 ROWS\n",
      "At line 85 COLUMNS\n",
      "At line 673 RHS\n",
      "At line 754 BOUNDS\n",
      "At line 773 ENDATA\n",
      "Problem MODEL has 80 rows, 37 columns and 536 elements\n",
      "Coin0008I MODEL read with 0 errors\n",
      "Option for timeMode changed from cpu to elapsed\n",
      "Continuous objective value is 7 - 0.00 seconds\n",
      "Cgl0004I processed model has 40 rows, 37 columns (18 integer (18 of which binary)) and 268 elements\n",
      "Cbc0038I Initial state - 13 integers unsatisfied sum - 3.94903\n",
      "Cbc0038I Pass   1: suminf.    0.00000 (0) obj. 27 iterations 18\n",
      "Cbc0038I Solution found of 27\n",
      "Cbc0038I Relaxing continuous gives 27\n",
      "Cbc0038I Before mini branch and bound, 5 integers at bound fixed and 0 continuous\n",
      "Cbc0038I Full problem 40 rows 37 columns, reduced to 35 rows 27 columns\n",
      "Cbc0038I Mini branch and bound improved solution from 27 to 23 (0.01 seconds)\n",
      "Cbc0038I Round again with cutoff of 21.4\n",
      "Cbc0038I Pass   2: suminf.    0.23333 (2) obj. 21.4 iterations 5\n",
      "Cbc0038I Pass   3: suminf.    1.24747 (5) obj. 21.4 iterations 13\n",
      "Cbc0038I Pass   4: suminf.    2.14792 (7) obj. 21.4 iterations 9\n",
      "Cbc0038I Pass   5: suminf.    0.29892 (4) obj. 21.4 iterations 7\n",
      "Cbc0038I Pass   6: suminf.    0.29892 (4) obj. 21.4 iterations 1\n",
      "Cbc0038I Pass   7: suminf.    1.46737 (6) obj. 21.4 iterations 21\n",
      "Cbc0038I Pass   8: suminf.    0.78567 (8) obj. 21.4 iterations 5\n",
      "Cbc0038I Pass   9: suminf.    0.83725 (3) obj. 21.4 iterations 14\n",
      "Cbc0038I Pass  10: suminf.    0.71579 (2) obj. 21.4 iterations 8\n",
      "Cbc0038I Pass  11: suminf.    0.78823 (2) obj. 21.4 iterations 5\n",
      "Cbc0038I Pass  12: suminf.    0.71579 (2) obj. 21.4 iterations 7\n",
      "Cbc0038I Pass  13: suminf.    0.68000 (2) obj. 21.4 iterations 10\n",
      "Cbc0038I Pass  14: suminf.    0.66651 (5) obj. 21.4 iterations 3\n",
      "Cbc0038I Pass  15: suminf.    1.69719 (7) obj. 21.4 iterations 10\n",
      "Cbc0038I Pass  16: suminf.    1.43656 (6) obj. 21.4 iterations 18\n",
      "Cbc0038I Pass  17: suminf.    1.20557 (6) obj. 21.4 iterations 3\n",
      "Cbc0038I Pass  18: suminf.    2.65832 (7) obj. 21.4 iterations 13\n",
      "Cbc0038I Pass  19: suminf.    2.14428 (8) obj. 21.4 iterations 5\n",
      "Cbc0038I Pass  20: suminf.    0.99063 (7) obj. 21.4 iterations 7\n",
      "Cbc0038I Pass  21: suminf.    1.26834 (8) obj. 21.4 iterations 15\n",
      "Cbc0038I Pass  22: suminf.    0.78567 (8) obj. 21.4 iterations 4\n",
      "Cbc0038I Pass  23: suminf.    0.83725 (3) obj. 21.4 iterations 14\n",
      "Cbc0038I Pass  24: suminf.    0.71579 (2) obj. 21.4 iterations 7\n",
      "Cbc0038I Pass  25: suminf.    0.78823 (2) obj. 21.4 iterations 5\n",
      "Cbc0038I Pass  26: suminf.    0.57778 (6) obj. 21.4 iterations 8\n",
      "Cbc0038I Pass  27: suminf.    0.15000 (2) obj. 21.4 iterations 3\n",
      "Cbc0038I Pass  28: suminf.    1.23940 (5) obj. 21.4 iterations 12\n",
      "Cbc0038I Pass  29: suminf.    0.57778 (2) obj. 21.4 iterations 4\n",
      "Cbc0038I Pass  30: suminf.    1.31457 (6) obj. 21.4 iterations 2\n",
      "Cbc0038I Pass  31: suminf.    0.89798 (6) obj. 21.4 iterations 4\n",
      "Cbc0038I No solution found this major pass\n",
      "Cbc0038I Before mini branch and bound, 1 integers at bound fixed and 0 continuous\n",
      "Cbc0038I Full problem 40 rows 37 columns, reduced to 39 rows 35 columns\n",
      "Cbc0038I Mini branch and bound did not improve solution (0.02 seconds)\n",
      "Cbc0038I After 0.02 seconds - Feasibility pump exiting with objective of 23 - took 0.02 seconds\n",
      "Cbc0012I Integer solution of 23 found by feasibility pump after 0 iterations and 0 nodes (0.02 seconds)\n",
      "Cbc0038I Full problem 40 rows 37 columns, reduced to 35 rows 27 columns\n",
      "Cbc0031I 9 added rows had average density of 36.111111\n",
      "Cbc0013I At root node, 9 cuts changed objective from 7 to 11.984497 in 100 passes\n",
      "Cbc0014I Cut generator 0 (Probing) - 0 row cuts average 0.0 elements, 0 column cuts (0 active)  in 0.006 seconds - new frequency is -100\n",
      "Cbc0014I Cut generator 1 (Gomory) - 1175 row cuts average 36.7 elements, 0 column cuts (0 active)  in 0.008 seconds - new frequency is 1\n",
      "Cbc0014I Cut generator 2 (Knapsack) - 0 row cuts average 0.0 elements, 0 column cuts (0 active)  in 0.018 seconds - new frequency is -100\n",
      "Cbc0014I Cut generator 3 (Clique) - 0 row cuts average 0.0 elements, 0 column cuts (0 active)  in 0.001 seconds - new frequency is -100\n",
      "Cbc0014I Cut generator 4 (MixedIntegerRounding2) - 0 row cuts average 0.0 elements, 0 column cuts (0 active)  in 0.009 seconds - new frequency is -100\n",
      "Cbc0014I Cut generator 5 (FlowCover) - 0 row cuts average 0.0 elements, 0 column cuts (0 active)  in 0.011 seconds - new frequency is -100\n",
      "Cbc0014I Cut generator 6 (TwoMirCuts) - 78 row cuts average 31.7 elements, 0 column cuts (0 active)  in 0.020 seconds - new frequency is -100\n",
      "Cbc0010I After 0 nodes, 1 on tree, 23 best solution, best possible 11.984497 (0.15 seconds)\n",
      "Cbc0001I Search completed - best objective 23.0000000000005, took 2446 iterations and 10 nodes (0.17 seconds)\n",
      "Cbc0032I Strong branching done 130 times (974 iterations), fathomed 5 nodes and fixed 6 variables\n",
      "Cbc0035I Maximum depth 2, 20 variables fixed on reduced cost\n",
      "Cuts at root node changed objective from 7 to 11.9845\n",
      "Probing was tried 100 times and created 0 cuts of which 0 were active after adding rounds of cuts (0.006 seconds)\n",
      "Gomory was tried 201 times and created 1596 cuts of which 0 were active after adding rounds of cuts (0.012 seconds)\n",
      "Knapsack was tried 100 times and created 0 cuts of which 0 were active after adding rounds of cuts (0.018 seconds)\n",
      "Clique was tried 100 times and created 0 cuts of which 0 were active after adding rounds of cuts (0.001 seconds)\n",
      "MixedIntegerRounding2 was tried 100 times and created 0 cuts of which 0 were active after adding rounds of cuts (0.009 seconds)\n",
      "FlowCover was tried 100 times and created 0 cuts of which 0 were active after adding rounds of cuts (0.011 seconds)\n",
      "TwoMirCuts was tried 100 times and created 78 cuts of which 0 were active after adding rounds of cuts (0.020 seconds)\n",
      "ZeroHalf was tried 1 times and created 0 cuts of which 0 were active after adding rounds of cuts (0.000 seconds)\n",
      "\n",
      "Result - Optimal solution found\n",
      "\n",
      "Objective value:                23.00000000\n",
      "Enumerated nodes:               10\n",
      "Total iterations:               2446\n",
      "Time (CPU seconds):             0.17\n",
      "Time (Wallclock seconds):       0.18\n",
      "\n",
      "Option for printingOptions changed from normal to all\n",
      "Total time (CPU seconds):       0.17   (Wallclock seconds):       0.18\n",
      "\n"
     ]
    },
    {
     "data": {
      "text/plain": [
       "1"
      ]
     },
     "execution_count": 8,
     "metadata": {},
     "output_type": "execute_result"
    }
   ],
   "source": [
    "m.solve()  # 求解\n"
   ]
  },
  {
   "cell_type": "code",
   "execution_count": 9,
   "metadata": {},
   "outputs": [
    {
     "name": "stdout",
     "output_type": "stream",
     "text": [
      "('P', 'B')\n",
      "('Q', 'A')\n",
      "('R', 'A')\n",
      "('S', 'C')\n",
      "('T', 'B')\n",
      "('U', 'C')\n"
     ]
    }
   ],
   "source": [
    "\n",
    "if m.status == 1:\n",
    "    for i, xi in enumerate(np.vectorize(value)(x).tolist()):\n",
    "        print((members[i], teams[xi.index(1)]))\n",
    "else:\n",
    "    print('最適解を得られなかった。')"
   ]
  }
 ],
 "metadata": {
  "kernelspec": {
   "display_name": "combinatorial-optimization-practice-O_WzHL3X-py3.10",
   "language": "python",
   "name": "python3"
  },
  "language_info": {
   "codemirror_mode": {
    "name": "ipython",
    "version": 3
   },
   "file_extension": ".py",
   "mimetype": "text/x-python",
   "name": "python",
   "nbconvert_exporter": "python",
   "pygments_lexer": "ipython3",
   "version": "3.10.5"
  },
  "orig_nbformat": 4,
  "vscode": {
   "interpreter": {
    "hash": "8094ce982410e36197335b09e8c2ccc489c074f4ef7c2254f6645e7509d47828"
   }
  }
 },
 "nbformat": 4,
 "nbformat_minor": 2
}
