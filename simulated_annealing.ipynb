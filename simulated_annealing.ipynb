{
 "cells": [
  {
   "cell_type": "code",
   "execution_count": 1,
   "metadata": {},
   "outputs": [],
   "source": [
    "from simanneal import Annealer\n",
    "import random"
   ]
  },
  {
   "cell_type": "code",
   "execution_count": 2,
   "metadata": {},
   "outputs": [],
   "source": [
    "class GroupingProblem(Annealer):\n",
    "\n",
    "    def __init__(self, init_state, members, teams, skills, scores):\n",
    "        super(GroupingProblem, self).__init__(init_state)  # important!\n",
    "        self.members = members\n",
    "        self.teams = teams\n",
    "        self.scores = scores\n",
    "        self.sum_scores = [sum(ai) for ai in scores]\n",
    "        self.skills = skills\n",
    "\n",
    "    # 探索点の移動ルール\n",
    "    def move(self):\n",
    "        # ランダムに選択したメンバーm1をチームt1からチームt2に移す\n",
    "        m1 = random.choice(list(range(len(self.members))))\n",
    "        t1 = self.state[m1].index(1)\n",
    "        t2 = random.choice(list(range(len(self.teams))))\n",
    "        self.state[m1][t1], self.state[m1][t2] = self.state[m1][t2], self.state[m1][t1]\n",
    "\n",
    "    # 目的関数\n",
    "    def energy(self):\n",
    "        v = 0\n",
    "        nu = sum(sum(self.sum_scores[i] * self.state[i][j] for i in range(len(self.members))) for j in range(len(self.teams))) / len(self.teams)\n",
    "        for j in range(len(self.teams)):\n",
    "            mu_j = sum(sum(self.scores[i][k] * self.state[i][j] for i in range(len(self.members))) for k in range(len(self.skills))) / len(self.skills)\n",
    "            for k in range(len(self.skills)):\n",
    "                v += abs(sum(self.scores[i][k] * self.state[i][j] for i in range(len(self.members))) - mu_j)\n",
    "            v += 1.5 * abs(sum(self.sum_scores[i] * self.state[i][j] for i in range(len(self.members))) - nu)\n",
    "        return v"
   ]
  },
  {
   "cell_type": "code",
   "execution_count": null,
   "metadata": {},
   "outputs": [],
   "source": [
    "\n",
    "teams = ['A', 'B', 'C']\n",
    "members = ['P', 'Q', 'R', 'S', 'T', 'U']\n",
    "skills = ['Controller', 'Promoter', 'Supporter', 'Analyzer']\n",
    "scores = [[6, 0, 1, 3],\n",
    "            [2, -1, 3, 5],\n",
    "            [2, 4, 0, 0],\n",
    "            [3, 4, 5, 0],\n",
    "            [0, 2, 1, 4],\n",
    "            [2, 3, -1, 1]]\n",
    "\n",
    "# 初期割当て\n",
    "init_state = [[0 for j in range(len(teams))] for i in range(len(members))]\n",
    "for i in range(len(members)):\n",
    "    init_state[i][0] = 1  # 最初は全員Aチームに所属\n",
    "\n",
    "prob = GroupingProblem(init_state, members, teams, skills, scores)\n",
    "prob.steps = 100000\n",
    "prob.copy_strategy = \"deepcopy\"\n",
    "prob.anneal()  # 焼きなまし実行\n",
    "\n",
    "for i,s in enumerate(prob.state):\n",
    "    print(members[i], teams[s.index(1)])"
   ]
  }
 ],
 "metadata": {
  "kernelspec": {
   "display_name": "combinatorial-optimization-practice-O_WzHL3X-py3.10",
   "language": "python",
   "name": "python3"
  },
  "language_info": {
   "codemirror_mode": {
    "name": "ipython",
    "version": 3
   },
   "file_extension": ".py",
   "mimetype": "text/x-python",
   "name": "python",
   "nbconvert_exporter": "python",
   "pygments_lexer": "ipython3",
   "version": "3.10.5"
  },
  "orig_nbformat": 4,
  "vscode": {
   "interpreter": {
    "hash": "8094ce982410e36197335b09e8c2ccc489c074f4ef7c2254f6645e7509d47828"
   }
  }
 },
 "nbformat": 4,
 "nbformat_minor": 2
}
