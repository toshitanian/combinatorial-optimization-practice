{
 "cells": [
  {
   "cell_type": "code",
   "execution_count": 1,
   "metadata": {},
   "outputs": [],
   "source": [
    "# https://qiita.com/SaitoTsutomu/items/f4478dfbc3c1cf6425e3\n",
    "import numpy as np, pandas as pd\n"
   ]
  },
  {
   "cell_type": "code",
   "execution_count": 2,
   "metadata": {},
   "outputs": [
    {
     "name": "stdout",
     "output_type": "stream",
     "text": [
      "makes 3 teams with 6 members\n"
     ]
    }
   ],
   "source": [
    "columns = [\"Controller\", \"Promoter\", \"Supporter\", \"Analyzer\"]\n",
    "index = [\"P\", \"Q\", \"R\", \"S\", \"T\", \"U\"]\n",
    "scores = pd.DataFrame([\n",
    "    [6,0,1,3],\n",
    "    [2,-1,3,5],\n",
    "    [2,4,0,0],\n",
    "    [3,4,5,0],\n",
    "    [0,2,1,4],\n",
    "    [2,3,-1,1]\n",
    "], columns=columns, index=index)\n",
    "\n",
    "num_teams = 3\n",
    "num_members = scores.shape[0]\n",
    "print(f\"makes {num_teams} teams with {num_members} members\")"
   ]
  },
  {
   "cell_type": "code",
   "execution_count": 3,
   "metadata": {},
   "outputs": [
    {
     "data": {
      "text/html": [
       "<div>\n",
       "<style scoped>\n",
       "    .dataframe tbody tr th:only-of-type {\n",
       "        vertical-align: middle;\n",
       "    }\n",
       "\n",
       "    .dataframe tbody tr th {\n",
       "        vertical-align: top;\n",
       "    }\n",
       "\n",
       "    .dataframe thead th {\n",
       "        text-align: right;\n",
       "    }\n",
       "</style>\n",
       "<table border=\"1\" class=\"dataframe\">\n",
       "  <thead>\n",
       "    <tr style=\"text-align: right;\">\n",
       "      <th></th>\n",
       "      <th>Controller</th>\n",
       "      <th>Promoter</th>\n",
       "      <th>Supporter</th>\n",
       "      <th>Analyzer</th>\n",
       "    </tr>\n",
       "  </thead>\n",
       "  <tbody>\n",
       "    <tr>\n",
       "      <th>P</th>\n",
       "      <td>6</td>\n",
       "      <td>0</td>\n",
       "      <td>1</td>\n",
       "      <td>3</td>\n",
       "    </tr>\n",
       "    <tr>\n",
       "      <th>Q</th>\n",
       "      <td>2</td>\n",
       "      <td>-1</td>\n",
       "      <td>3</td>\n",
       "      <td>5</td>\n",
       "    </tr>\n",
       "    <tr>\n",
       "      <th>R</th>\n",
       "      <td>2</td>\n",
       "      <td>4</td>\n",
       "      <td>0</td>\n",
       "      <td>0</td>\n",
       "    </tr>\n",
       "    <tr>\n",
       "      <th>S</th>\n",
       "      <td>3</td>\n",
       "      <td>4</td>\n",
       "      <td>5</td>\n",
       "      <td>0</td>\n",
       "    </tr>\n",
       "    <tr>\n",
       "      <th>T</th>\n",
       "      <td>0</td>\n",
       "      <td>2</td>\n",
       "      <td>1</td>\n",
       "      <td>4</td>\n",
       "    </tr>\n",
       "    <tr>\n",
       "      <th>U</th>\n",
       "      <td>2</td>\n",
       "      <td>3</td>\n",
       "      <td>-1</td>\n",
       "      <td>1</td>\n",
       "    </tr>\n",
       "  </tbody>\n",
       "</table>\n",
       "</div>"
      ],
      "text/plain": [
       "   Controller  Promoter  Supporter  Analyzer\n",
       "P           6         0          1         3\n",
       "Q           2        -1          3         5\n",
       "R           2         4          0         0\n",
       "S           3         4          5         0\n",
       "T           0         2          1         4\n",
       "U           2         3         -1         1"
      ]
     },
     "execution_count": 3,
     "metadata": {},
     "output_type": "execute_result"
    }
   ],
   "source": [
    "scores"
   ]
  },
  {
   "cell_type": "code",
   "execution_count": 9,
   "metadata": {},
   "outputs": [],
   "source": [
    "from pulp import LpProblem, lpSum, value, lpDot\n",
    "from ortoolpy import addvars, addbinvars"
   ]
  },
  {
   "cell_type": "code",
   "execution_count": 7,
   "metadata": {},
   "outputs": [],
   "source": [
    "m = LpProblem()\n",
    "x = np.array(addbinvars(num_members, num_teams)) # Allocations\n",
    "y = np.array(addvars(num_teams, 2)) # Minimum and maximum within a team\n",
    "z = addvars(2) # Minimum and maximum across all teams\n",
    "\n",
    "# objective function\n",
    "# Minimize the sum of:\n",
    "# - difference between the highest and lowest scores within a team (y)\n",
    "# - difference between the highest and lowest scores across all teams (z*1.5)\n",
    "m += lpSum(y[:,1] - y[:,0]) + 1.5 * (z[1] - z[0] )\n"
   ]
  },
  {
   "cell_type": "code",
   "execution_count": 8,
   "metadata": {},
   "outputs": [],
   "source": [
    "\n",
    "# Each members needs to be in exactly one team\n",
    "# vector of team allocation of a member must be 1.\n",
    "for i in range(num_members):\n",
    "    m += lpSum(x[i]) == 1"
   ]
  },
  {
   "cell_type": "code",
   "execution_count": 10,
   "metadata": {},
   "outputs": [],
   "source": [
    "for j in range(num_teams):\n",
    "\n",
    "    # scores.sum(1) is vector of scores of a member\n",
    "    # x[:,j] is vector of team allocation of a member\n",
    "    # x[0] is minimum score across all teams\n",
    "    # x[1] is maximum score across all teams\n",
    "    m += lpDot(scores.sum(1), x[:,j]) >= z[0]\n",
    "    m += lpDot(scores.sum(1), x[:,j]) <= z[1]\n",
    "\n",
    "    # Iterate over 4 types of all communication skills\n",
    "    for k in range(scores.shape[1]):\n",
    "        # scores.iloc[:,k] is vector of scores of a member for a skill\n",
    "        # x[:,j] is vector of team allocation of a member\n",
    "        # y[j, 0] is minimum score within a team\n",
    "        m += lpDot(scores.iloc[:,k], x[:,j]) >= y[j, 0]\n",
    "        m += lpDot(scores.iloc[:,k], x[:,j]) <= y[j, 1]"
   ]
  },
  {
   "cell_type": "code",
   "execution_count": 12,
   "metadata": {},
   "outputs": [
    {
     "name": "stdout",
     "output_type": "stream",
     "text": [
      "Welcome to the CBC MILP Solver \n",
      "Version: 2.10.3 \n",
      "Build Date: Dec 15 2019 \n",
      "\n",
      "command line - /Users/toshiya/Library/Caches/pypoetry/virtualenvs/combinatorial-optimization-practice-O_WzHL3X-py3.10/lib/python3.10/site-packages/pulp/solverdir/cbc/osx/64/cbc /var/folders/_x/8s9ykbp91d39v67y3yj2j_fc0000gn/T/08b1de3f9faa44fb9a26acf0dd786d9c-pulp.mps timeMode elapsed branch printingOptions all solution /var/folders/_x/8s9ykbp91d39v67y3yj2j_fc0000gn/T/08b1de3f9faa44fb9a26acf0dd786d9c-pulp.sol (default strategy 1)\n",
      "At line 2 NAME          MODEL\n",
      "At line 3 ROWS\n",
      "At line 41 COLUMNS\n",
      "At line 284 RHS\n",
      "At line 321 BOUNDS\n",
      "At line 340 ENDATA\n",
      "Problem MODEL has 36 rows, 26 columns and 198 elements\n",
      "Coin0008I MODEL read with 0 errors\n",
      "Option for timeMode changed from cpu to elapsed\n",
      "Continuous objective value is 6 - 0.00 seconds\n",
      "Cgl0004I processed model has 36 rows, 26 columns (18 integer (18 of which binary)) and 198 elements\n",
      "Cbc0038I Initial state - 13 integers unsatisfied sum - 3.89673\n",
      "Cbc0038I Pass   1: suminf.    0.40000 (2) obj. 40 iterations 12\n",
      "Cbc0038I Pass   2: suminf.    0.00000 (0) obj. 44 iterations 7\n",
      "Cbc0038I Solution found of 44\n",
      "Cbc0038I Relaxing continuous gives 44\n",
      "Cbc0038I Before mini branch and bound, 5 integers at bound fixed and 0 continuous\n",
      "Cbc0038I Full problem 36 rows 26 columns, reduced to 33 rows 19 columns\n",
      "Cbc0038I Mini branch and bound improved solution from 44 to 16 (0.01 seconds)\n",
      "Cbc0038I Round again with cutoff of 15\n",
      "Cbc0038I Pass   3: suminf.    0.98279 (6) obj. 15 iterations 5\n",
      "Cbc0038I Pass   4: suminf.    0.25807 (3) obj. 15 iterations 5\n",
      "Cbc0038I Pass   5: suminf.    1.62779 (5) obj. 15 iterations 7\n",
      "Cbc0038I Pass   6: suminf.    0.34973 (3) obj. 15 iterations 6\n",
      "Cbc0038I Pass   7: suminf.    0.96124 (4) obj. 15 iterations 14\n",
      "Cbc0038I Pass   8: suminf.    0.94017 (5) obj. 15 iterations 4\n",
      "Cbc0038I Pass   9: suminf.    2.41687 (6) obj. 15 iterations 8\n",
      "Cbc0038I Pass  10: suminf.    0.25807 (3) obj. 15 iterations 12\n",
      "Cbc0038I Pass  11: suminf.    1.62779 (5) obj. 15 iterations 8\n",
      "Cbc0038I Pass  12: suminf.    0.34973 (3) obj. 15 iterations 6\n",
      "Cbc0038I Pass  13: suminf.    1.64607 (6) obj. 15 iterations 10\n",
      "Cbc0038I Pass  14: suminf.    1.19768 (6) obj. 15 iterations 3\n",
      "Cbc0038I Pass  15: suminf.    1.92758 (6) obj. 15 iterations 14\n",
      "Cbc0038I Pass  16: suminf.    0.14286 (2) obj. 15 iterations 10\n",
      "Cbc0038I Pass  17: suminf.    0.07237 (4) obj. 15 iterations 3\n",
      "Cbc0038I Pass  18: suminf.    0.07237 (4) obj. 15 iterations 0\n",
      "Cbc0038I Pass  19: suminf.    0.36539 (4) obj. 15 iterations 4\n",
      "Cbc0038I Pass  20: suminf.    0.07237 (4) obj. 15 iterations 4\n",
      "Cbc0038I Pass  21: suminf.    0.07237 (4) obj. 15 iterations 0\n",
      "Cbc0038I Pass  22: suminf.    1.25732 (7) obj. 15 iterations 12\n",
      "Cbc0038I Pass  23: suminf.    1.25049 (5) obj. 15 iterations 2\n",
      "Cbc0038I Pass  24: suminf.    0.37705 (3) obj. 15 iterations 11\n",
      "Cbc0038I Pass  25: suminf.    0.31707 (2) obj. 15 iterations 2\n",
      "Cbc0038I Pass  26: suminf.    0.91515 (4) obj. 15 iterations 6\n",
      "Cbc0038I Pass  27: suminf.    0.31707 (2) obj. 15 iterations 6\n",
      "Cbc0038I Pass  28: suminf.    1.36887 (5) obj. 15 iterations 10\n",
      "Cbc0038I Pass  29: suminf.    0.89167 (3) obj. 15 iterations 6\n",
      "Cbc0038I Pass  30: suminf.    0.81895 (5) obj. 15 iterations 3\n",
      "Cbc0038I Pass  31: suminf.    2.22672 (8) obj. 15 iterations 7\n",
      "Cbc0038I Pass  32: suminf.    1.08153 (5) obj. 15 iterations 7\n",
      "Cbc0038I No solution found this major pass\n",
      "Cbc0038I Before mini branch and bound, 1 integers at bound fixed and 0 continuous\n",
      "Cbc0038I Full problem 36 rows 26 columns, reduced to 35 rows 24 columns\n",
      "Cbc0038I Mini branch and bound did not improve solution (0.02 seconds)\n",
      "Cbc0038I After 0.02 seconds - Feasibility pump exiting with objective of 16 - took 0.01 seconds\n",
      "Cbc0012I Integer solution of 16 found by feasibility pump after 0 iterations and 0 nodes (0.02 seconds)\n",
      "Cbc0038I Full problem 36 rows 26 columns, reduced to 33 rows 19 columns\n",
      "Cbc0031I 5 added rows had average density of 26\n",
      "Cbc0013I At root node, 5 cuts changed objective from 6 to 8.2508701 in 100 passes\n",
      "Cbc0014I Cut generator 0 (Probing) - 0 row cuts average 0.0 elements, 2 column cuts (2 active)  in 0.006 seconds - new frequency is -100\n",
      "Cbc0014I Cut generator 1 (Gomory) - 771 row cuts average 25.9 elements, 0 column cuts (0 active)  in 0.006 seconds - new frequency is 1\n",
      "Cbc0014I Cut generator 2 (Knapsack) - 3 row cuts average 5.0 elements, 0 column cuts (0 active)  in 0.028 seconds - new frequency is -100\n",
      "Cbc0014I Cut generator 3 (Clique) - 0 row cuts average 0.0 elements, 0 column cuts (0 active)  in 0.001 seconds - new frequency is -100\n",
      "Cbc0014I Cut generator 4 (MixedIntegerRounding2) - 2 row cuts average 5.0 elements, 0 column cuts (0 active)  in 0.010 seconds - new frequency is -100\n",
      "Cbc0014I Cut generator 5 (FlowCover) - 0 row cuts average 0.0 elements, 0 column cuts (0 active)  in 0.010 seconds - new frequency is -100\n",
      "Cbc0014I Cut generator 6 (TwoMirCuts) - 94 row cuts average 23.3 elements, 0 column cuts (0 active)  in 0.015 seconds - new frequency is 1\n",
      "Cbc0010I After 0 nodes, 1 on tree, 16 best solution, best possible 8.2508701 (0.13 seconds)\n",
      "Cbc0001I Search completed - best objective 16, took 2532 iterations and 20 nodes (0.17 seconds)\n",
      "Cbc0032I Strong branching done 178 times (1223 iterations), fathomed 1 nodes and fixed 7 variables\n",
      "Cbc0035I Maximum depth 4, 18 variables fixed on reduced cost\n",
      "Cuts at root node changed objective from 6 to 8.25087\n",
      "Probing was tried 100 times and created 2 cuts of which 0 were active after adding rounds of cuts (0.006 seconds)\n",
      "Gomory was tried 207 times and created 1193 cuts of which 0 were active after adding rounds of cuts (0.010 seconds)\n",
      "Knapsack was tried 100 times and created 3 cuts of which 0 were active after adding rounds of cuts (0.028 seconds)\n",
      "Clique was tried 100 times and created 0 cuts of which 0 were active after adding rounds of cuts (0.001 seconds)\n",
      "MixedIntegerRounding2 was tried 100 times and created 2 cuts of which 0 were active after adding rounds of cuts (0.010 seconds)\n",
      "FlowCover was tried 100 times and created 0 cuts of which 0 were active after adding rounds of cuts (0.010 seconds)\n",
      "TwoMirCuts was tried 207 times and created 263 cuts of which 0 were active after adding rounds of cuts (0.025 seconds)\n",
      "ZeroHalf was tried 1 times and created 0 cuts of which 0 were active after adding rounds of cuts (0.000 seconds)\n",
      "\n",
      "Result - Optimal solution found\n",
      "\n",
      "Objective value:                16.00000000\n",
      "Enumerated nodes:               20\n",
      "Total iterations:               2532\n",
      "Time (CPU seconds):             0.17\n",
      "Time (Wallclock seconds):       0.17\n",
      "\n",
      "Option for printingOptions changed from normal to all\n",
      "Total time (CPU seconds):       0.17   (Wallclock seconds):       0.17\n",
      "\n"
     ]
    },
    {
     "data": {
      "text/plain": [
       "1"
      ]
     },
     "execution_count": 12,
     "metadata": {},
     "output_type": "execute_result"
    }
   ],
   "source": [
    "m.solve()"
   ]
  },
  {
   "cell_type": "code",
   "execution_count": null,
   "metadata": {},
   "outputs": [],
   "source": [
    "# x is allocation of members to teams\n",
    "# m.resolve changes the allocations in the x variable\n",
    "result_x = np.vectorize(value)(x)\n",
    "teams = [\"A\", \"B\", \"C\"]\n",
    "print([teams[i] for i in (result_x @ range(num_teams)).astype(int)])"
   ]
  },
  {
   "cell_type": "code",
   "execution_count": 14,
   "metadata": {},
   "outputs": [
    {
     "ename": "ValueError",
     "evalue": "matmul: Input operand 1 does not have enough dimensions (has 0, gufunc core with signature (n?,k),(k,m?)->(n?,m?) requires 1)",
     "output_type": "error",
     "traceback": [
      "\u001b[0;31m---------------------------------------------------------------------------\u001b[0m",
      "\u001b[0;31mValueError\u001b[0m                                Traceback (most recent call last)",
      "Cell \u001b[0;32mIn[14], line 1\u001b[0m\n\u001b[0;32m----> 1\u001b[0m result_x \u001b[39m@\u001b[39;49m num_teams\n",
      "\u001b[0;31mValueError\u001b[0m: matmul: Input operand 1 does not have enough dimensions (has 0, gufunc core with signature (n?,k),(k,m?)->(n?,m?) requires 1)"
     ]
    }
   ],
   "source": [
    "# @ is matrix multiplication\n",
    "result_x @ range(num_teams)"
   ]
  }
 ],
 "metadata": {
  "kernelspec": {
   "display_name": "combinatorial-optimization-practice-O_WzHL3X-py3.10",
   "language": "python",
   "name": "python3"
  },
  "language_info": {
   "codemirror_mode": {
    "name": "ipython",
    "version": 3
   },
   "file_extension": ".py",
   "mimetype": "text/x-python",
   "name": "python",
   "nbconvert_exporter": "python",
   "pygments_lexer": "ipython3",
   "version": "3.10.5"
  },
  "orig_nbformat": 4,
  "vscode": {
   "interpreter": {
    "hash": "8094ce982410e36197335b09e8c2ccc489c074f4ef7c2254f6645e7509d47828"
   }
  }
 },
 "nbformat": 4,
 "nbformat_minor": 2
}
